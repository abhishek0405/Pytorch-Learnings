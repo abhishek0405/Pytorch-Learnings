{
 "cells": [
  {
   "cell_type": "code",
   "execution_count": 1,
   "metadata": {},
   "outputs": [],
   "source": [
    "import torch\n",
    "import torch.nn as nn\n",
    "import numpy as np\n",
    "from sklearn import datasets\n",
    "import matplotlib.pyplot as plt"
   ]
  },
  {
   "cell_type": "code",
   "execution_count": 12,
   "metadata": {},
   "outputs": [],
   "source": [
    "x_numpy,y_numpy = datasets.make_regression(n_samples=100,n_features=1,noise=20,random_state=1)"
   ]
  },
  {
   "cell_type": "code",
   "execution_count": 15,
   "metadata": {},
   "outputs": [
    {
     "data": {
      "text/plain": [
       "(100, 1)"
      ]
     },
     "execution_count": 15,
     "metadata": {},
     "output_type": "execute_result"
    }
   ],
   "source": [
    "x_numpy.shape"
   ]
  },
  {
   "cell_type": "code",
   "execution_count": 14,
   "metadata": {},
   "outputs": [
    {
     "data": {
      "text/plain": [
       "(100,)"
      ]
     },
     "execution_count": 14,
     "metadata": {},
     "output_type": "execute_result"
    }
   ],
   "source": [
    "y_numpy.shape"
   ]
  },
  {
   "cell_type": "code",
   "execution_count": 18,
   "metadata": {},
   "outputs": [],
   "source": [
    "#get data\n",
    "X = torch.from_numpy(x_numpy.astype(np.float32))\n",
    "y = torch.from_numpy(y_numpy.astype(np.float32))\n"
   ]
  },
  {
   "cell_type": "code",
   "execution_count": 35,
   "metadata": {},
   "outputs": [
    {
     "name": "stdout",
     "output_type": "stream",
     "text": [
      "torch.Size([100])\n"
     ]
    }
   ],
   "source": [
    "print(y.shape)"
   ]
  },
  {
   "cell_type": "code",
   "execution_count": 36,
   "metadata": {},
   "outputs": [
    {
     "name": "stdout",
     "output_type": "stream",
     "text": [
      "torch.Size([100])\n",
      "torch.Size([100, 1])\n"
     ]
    }
   ],
   "source": [
    "print(y.shape)\n",
    "y=y.view(y.shape[0],1)\n",
    "print(y.shape)"
   ]
  },
  {
   "cell_type": "code",
   "execution_count": 32,
   "metadata": {},
   "outputs": [
    {
     "name": "stdout",
     "output_type": "stream",
     "text": [
      "torch.Size([100, 1])\n",
      "torch.Size([100])\n"
     ]
    }
   ],
   "source": [
    "print(X.shape)\n",
    "print(y.shape)"
   ]
  },
  {
   "cell_type": "code",
   "execution_count": 37,
   "metadata": {},
   "outputs": [],
   "source": [
    "#DEFINE THE MODEL\n",
    "n_samples,n_features = X.shape\n",
    "input_size = n_features\n",
    "op_size = 1\n",
    "model = nn.Linear(input_size,op_size)\n"
   ]
  },
  {
   "cell_type": "code",
   "execution_count": 38,
   "metadata": {},
   "outputs": [],
   "source": [
    "#loss and optimiser.\n",
    "learning_rate = 0.01\n",
    "criterion = nn.MSELoss() #loss function\n",
    "optimizer = torch.optim.SGD(model.parameters(),lr=learning_rate)\n",
    "\n"
   ]
  },
  {
   "cell_type": "code",
   "execution_count": 39,
   "metadata": {},
   "outputs": [
    {
     "name": "stdout",
     "output_type": "stream",
     "text": [
      "AT epoch  0 Loss is  tensor(5683.0620, grad_fn=<MseLossBackward>)\n",
      "AT epoch  10 Loss is  tensor(4210.0347, grad_fn=<MseLossBackward>)\n",
      "AT epoch  20 Loss is  tensor(3145.2129, grad_fn=<MseLossBackward>)\n",
      "AT epoch  30 Loss is  tensor(2374.6016, grad_fn=<MseLossBackward>)\n",
      "AT epoch  40 Loss is  tensor(1816.3235, grad_fn=<MseLossBackward>)\n",
      "AT epoch  50 Loss is  tensor(1411.4786, grad_fn=<MseLossBackward>)\n",
      "AT epoch  60 Loss is  tensor(1117.6335, grad_fn=<MseLossBackward>)\n",
      "AT epoch  70 Loss is  tensor(904.1774, grad_fn=<MseLossBackward>)\n",
      "AT epoch  80 Loss is  tensor(748.9991, grad_fn=<MseLossBackward>)\n",
      "AT epoch  90 Loss is  tensor(636.1084, grad_fn=<MseLossBackward>)\n"
     ]
    }
   ],
   "source": [
    "#training loop\n",
    "epochs = 100\n",
    "for epoch in range(epochs):\n",
    "    #fwd pass\n",
    "    y_predicted = model(X)\n",
    "    loss = criterion(y_predicted,y)\n",
    "    #backward\n",
    "    loss.backward()\n",
    "    #update\n",
    "    optimizer.step()\n",
    "    \n",
    "    #clear grads now\n",
    "    optimizer.zero_grad()\n",
    "    if epoch%10==0:\n",
    "        print('AT epoch ',epoch,'Loss is ',loss)"
   ]
  },
  {
   "cell_type": "code",
   "execution_count": 40,
   "metadata": {},
   "outputs": [
    {
     "data": {
      "text/plain": [
       "[<matplotlib.lines.Line2D at 0x22fb5f74c88>]"
      ]
     },
     "execution_count": 40,
     "metadata": {},
     "output_type": "execute_result"
    },
    {
     "data": {
      "image/png": "[encoded data removed]",
      "text/plain": [
       "<Figure size 432x288 with 1 Axes>"
      ]
     },
     "metadata": {
      "needs_background": "light"
     },
     "output_type": "display_data"
    }
   ],
   "source": [
    "predicted = model(X).detach().numpy() # so that grad not tracked\n",
    "plt.plot(x_numpy,y_numpy,'ro')\n",
    "plt.plot(x_numpy,predicted,'b')"
   ]
  },
  {
   "cell_type": "code",
   "execution_count": null,
   "metadata": {},
   "outputs": [],
   "source": []
  }
 ],
 "metadata": {
  "kernelspec": {
   "display_name": "Python 3",
   "language": "python",
   "name": "python3"
  },
  "language_info": {
   "codemirror_mode": {
    "name": "ipython",
    "version": 3
   },
   "file_extension": ".py",
   "mimetype": "text/x-python",
   "name": "python",
   "nbconvert_exporter": "python",
   "pygments_lexer": "ipython3",
   "version": "3.7.3"
  }
 },
 "nbformat": 4,
 "nbformat_minor": 2
}
