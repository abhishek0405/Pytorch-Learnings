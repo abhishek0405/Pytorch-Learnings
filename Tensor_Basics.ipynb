{
 "cells": [
  {
   "cell_type": "code",
   "execution_count": 60,
   "metadata": {},
   "outputs": [],
   "source": [
    "import torch\n",
    "import numpy as np"
   ]
  },
  {
   "cell_type": "markdown",
   "metadata": {},
   "source": [
    "### torch.empty returns tensor with garbage/uninitialsed data"
   ]
  },
  {
   "cell_type": "code",
   "execution_count": 2,
   "metadata": {},
   "outputs": [],
   "source": [
    "x=torch.empty(1)"
   ]
  },
  {
   "cell_type": "code",
   "execution_count": 3,
   "metadata": {},
   "outputs": [
    {
     "data": {
      "text/plain": [
       "tensor([4.6425e+30])"
      ]
     },
     "execution_count": 3,
     "metadata": {},
     "output_type": "execute_result"
    }
   ],
   "source": [
    "x"
   ]
  },
  {
   "cell_type": "code",
   "execution_count": 10,
   "metadata": {},
   "outputs": [
    {
     "data": {
      "text/plain": [
       "tensor([[[0.0000e+00, 0.0000e+00, 0.0000e+00, 0.0000e+00],\n",
       "         [0.0000e+00, 1.0102e-38, 7.7052e+31, 7.2148e+22]],\n",
       "\n",
       "        [[2.5226e-18, 2.5930e-09, 1.0072e-11, 7.7202e-10],\n",
       "         [6.7140e-07, 4.2111e-11, 4.2886e-08, 2.9572e-18]],\n",
       "\n",
       "        [[6.7333e+22, 1.7591e+22, 1.7184e+25, 4.3222e+27],\n",
       "         [6.1972e-04, 7.2443e+22, 1.7728e+28, 7.0367e+22]]])"
      ]
     },
     "execution_count": 10,
     "metadata": {},
     "output_type": "execute_result"
    }
   ],
   "source": [
    "x=torch.empty(3,2,4)\n",
    "x"
   ]
  },
  {
   "cell_type": "markdown",
   "metadata": {},
   "source": [
    "torch.zeros for o tensor,rand for 0-1 ,rand1 for normally distributed"
   ]
  },
  {
   "cell_type": "code",
   "execution_count": 14,
   "metadata": {},
   "outputs": [
    {
     "name": "stdout",
     "output_type": "stream",
     "text": [
      "tensor([[0., 0.],\n",
      "        [0., 0.]])\n",
      "tensor([[0.4791, 0.1945, 0.1979, 0.3157],\n",
      "        [0.2288, 0.1607, 0.6693, 0.2472],\n",
      "        [0.3262, 0.8738, 0.5718, 0.8442]])\n"
     ]
    }
   ],
   "source": [
    "x=torch.zeros(2,2)\n",
    "y=torch.rand(3,4)\n",
    "print(x)\n",
    "print(y)"
   ]
  },
  {
   "cell_type": "code",
   "execution_count": 25,
   "metadata": {},
   "outputs": [
    {
     "data": {
      "text/plain": [
       "tensor([[1, 1, 1, 1, 1],\n",
       "        [1, 1, 1, 1, 1],\n",
       "        [1, 1, 1, 1, 1],\n",
       "        [1, 1, 1, 1, 1]], dtype=torch.int32)"
      ]
     },
     "execution_count": 25,
     "metadata": {},
     "output_type": "execute_result"
    }
   ],
   "source": [
    "z=torch.ones(4,5,dtype=torch.int)\n",
    "z"
   ]
  },
  {
   "cell_type": "code",
   "execution_count": 26,
   "metadata": {},
   "outputs": [
    {
     "name": "stdout",
     "output_type": "stream",
     "text": [
      "torch.IntTensor\n",
      "torch.Size([4, 5])\n"
     ]
    }
   ],
   "source": [
    "print(z.type())\n",
    "print(z.size())"
   ]
  },
  {
   "cell_type": "markdown",
   "metadata": {},
   "source": [
    "### LIST TO TENSOR"
   ]
  },
  {
   "cell_type": "code",
   "execution_count": 27,
   "metadata": {},
   "outputs": [
    {
     "name": "stdout",
     "output_type": "stream",
     "text": [
      "tensor([1, 2, 3])\n"
     ]
    }
   ],
   "source": [
    "l=[1,2,3]\n",
    "x=torch.tensor(l)\n",
    "print(x)"
   ]
  },
  {
   "cell_type": "markdown",
   "metadata": {},
   "source": [
    "### arithmetic"
   ]
  },
  {
   "cell_type": "code",
   "execution_count": 29,
   "metadata": {},
   "outputs": [
    {
     "name": "stdout",
     "output_type": "stream",
     "text": [
      "tensor([[ 1.1776, -0.3009,  0.3627],\n",
      "        [-0.5445, -0.0515,  0.0921]])\n",
      "tensor([[ 1.1776, -0.3009,  0.3627],\n",
      "        [-0.5445, -0.0515,  0.0921]])\n"
     ]
    }
   ],
   "source": [
    "z=torch.randn(2,3)\n",
    "y=torch.randn(2,3)\n",
    "#both below used for addition(element wise)\n",
    "x1=z+y\n",
    "x2=torch.add(z,y)\n",
    "print(x1)\n",
    "print(x2)"
   ]
  },
  {
   "cell_type": "code",
   "execution_count": 35,
   "metadata": {},
   "outputs": [
    {
     "name": "stdout",
     "output_type": "stream",
     "text": [
      "tensor([[ 0.7893, -0.6224,  0.7594],\n",
      "        [-0.2857, -0.0273, -1.0312]])\n"
     ]
    }
   ],
   "source": [
    "z.add_(y) #z=z-y whenever _ then it means inplace operation.\n",
    "print(z)"
   ]
  },
  {
   "cell_type": "code",
   "execution_count": 39,
   "metadata": {},
   "outputs": [
    {
     "name": "stdout",
     "output_type": "stream",
     "text": [
      "tensor([[0.9883, 0.8575],\n",
      "        [0.9473, 0.0138]])\n",
      "tensor([[0.2629, 0.0221],\n",
      "        [0.5558, 0.6733]])\n"
     ]
    }
   ],
   "source": [
    "x=torch.rand(2,2)\n",
    "y=torch.rand(2,2)\n",
    "print(x)\n",
    "print(y)"
   ]
  },
  {
   "cell_type": "code",
   "execution_count": 41,
   "metadata": {},
   "outputs": [
    {
     "name": "stdout",
     "output_type": "stream",
     "text": [
      "tensor([[0.2598, 0.0190],\n",
      "        [0.5265, 0.0093]])\n",
      "tensor([[1.2512, 0.8796],\n",
      "        [1.5030, 0.6871]])\n"
     ]
    }
   ],
   "source": [
    "print(x*y)##element wise\n",
    "#all these are inplace element wise operations\n",
    "x.add_(y)\n",
    "x.mul_(y)\n",
    "x.div_(y)\n",
    "print(x)"
   ]
  },
  {
   "cell_type": "code",
   "execution_count": 45,
   "metadata": {},
   "outputs": [
    {
     "name": "stdout",
     "output_type": "stream",
     "text": [
      "tensor([[0.6317, 0.3196, 0.2519, 0.1510],\n",
      "        [0.8509, 0.2822, 0.0105, 0.8150],\n",
      "        [0.6411, 0.0696, 0.4995, 0.3775],\n",
      "        [0.9689, 0.2310, 0.9045, 0.9568],\n",
      "        [0.9566, 0.5730, 0.5265, 0.0364]])\n"
     ]
    }
   ],
   "source": [
    "x=torch.rand(5,4)\n",
    "print(x)"
   ]
  },
  {
   "cell_type": "markdown",
   "metadata": {},
   "source": [
    "### slicing basics "
   ]
  },
  {
   "cell_type": "code",
   "execution_count": 53,
   "metadata": {},
   "outputs": [
    {
     "name": "stdout",
     "output_type": "stream",
     "text": [
      "tensor([0.2519, 0.0105, 0.4995, 0.9045, 0.5265])\n",
      "tensor([0.2310, 0.9045, 0.9568])\n",
      "tensor([[0.0696, 0.4995],\n",
      "        [0.2310, 0.9045],\n",
      "        [0.5730, 0.5265]])\n",
      "tensor(0.2822)\n",
      "0.2821626663208008\n"
     ]
    }
   ],
   "source": [
    "print(x[:,2])\n",
    "print(x[3,1:])\n",
    "print(x[2:,1:3])\n",
    "print(x[1][1])\n",
    "print(x[1][1].item()) # to get value , use only if one item in tensor"
   ]
  },
  {
   "cell_type": "markdown",
   "metadata": {},
   "source": [
    "### RESHAPING"
   ]
  },
  {
   "cell_type": "code",
   "execution_count": 56,
   "metadata": {},
   "outputs": [
    {
     "name": "stdout",
     "output_type": "stream",
     "text": [
      "torch.Size([8, 2])\n"
     ]
    }
   ],
   "source": [
    "x = torch.rand(4,4)\n",
    "#.view for replacing\n",
    "a = x.view(1,16)\n",
    "b = x.view(2,8)\n",
    "c = x.view(8,-1) #-11 automatically filled with correct val\n",
    "print(c.size())"
   ]
  },
  {
   "cell_type": "markdown",
   "metadata": {},
   "source": [
    "### Numpy and tensor"
   ]
  },
  {
   "cell_type": "code",
   "execution_count": 77,
   "metadata": {},
   "outputs": [
    {
     "name": "stdout",
     "output_type": "stream",
     "text": [
      "tensor([0.1022, 0.9042, 0.9470, 0.7682])\n",
      "[0.10221785 0.90415925 0.947048   0.7682152 ]\n",
      "\n",
      "after adding\n",
      "\n",
      "tensor([1.1022, 1.9042, 1.9470, 1.7682])\n",
      "[1.1022179 1.9041593 1.947048  1.7682152]\n",
      "tensor([4.1022, 4.9042, 4.9470, 4.7682])\n",
      "[4.1022177 4.9041595 4.947048  4.768215 ]\n"
     ]
    }
   ],
   "source": [
    "#TORCH TO NUMPY\n",
    "a=torch.rand(4)\n",
    "b=a.numpy()\n",
    "print(a)\n",
    "print(b)\n",
    "a.add_(1)\n",
    "print()\n",
    "print('after adding')\n",
    "print()\n",
    "print(a)\n",
    "print(b)\n",
    "\n",
    "#Hence b,a share same memory so updating one will update array too.\n",
    "\n",
    "b+=3\n",
    "print(a)\n",
    "print(b)\n",
    "\n",
    "\n",
    "#NOTE -> b=b+3 will create b with val b+3 in another memory location. SO now they will be independednt. but b+=3 updates the same memoery"
   ]
  },
  {
   "cell_type": "code",
   "execution_count": 72,
   "metadata": {},
   "outputs": [
    {
     "name": "stdout",
     "output_type": "stream",
     "text": [
      "[1. 1. 1. 1. 1.]\n",
      "tensor([1., 1., 1., 1., 1.], dtype=torch.float64)\n",
      "[2. 2. 2. 2. 2.]\n",
      "tensor([2., 2., 2., 2., 2.], dtype=torch.float64)\n",
      "[4. 4. 4. 4. 4.]\n",
      "tensor([4., 4., 4., 4., 4.], dtype=torch.float64)\n"
     ]
    }
   ],
   "source": [
    "#NUMPY TO TORCH\n",
    "a=np.ones(5)\n",
    "b = torch.from_numpy(a)\n",
    "print(a)\n",
    "print(b)\n",
    "\n",
    "a+=1\n",
    "print(a)\n",
    "print(b)\n",
    "\n",
    "b.add_(2)\n",
    "print(a)\n",
    "print(b)"
   ]
  },
  {
   "cell_type": "markdown",
   "metadata": {},
   "source": [
    "### CPU GPU SWITCHING"
   ]
  },
  {
   "cell_type": "code",
   "execution_count": 78,
   "metadata": {},
   "outputs": [
    {
     "data": {
      "text/plain": [
       "False"
      ]
     },
     "execution_count": 78,
     "metadata": {},
     "output_type": "execute_result"
    }
   ],
   "source": [
    "if(torch.cuda.is_available()):\n",
    "    device = torch.device('cuda')\n",
    "    x = torch.ones(5,device=device) #in GPU\n",
    "    y = torch.ones(5) # in CPU\n",
    "    y = y.to(device) #in GPU now\n",
    "    z = x+y #this happens in GPU\n",
    "    z.numpy()# this will give error as NUMPY cannot handle GPU tensors,only CPU\n",
    "    #hence do this\n",
    "    z.to('cpu')#now back in cpu\n",
    "    z.numpy()#this will work now"
   ]
  },
  {
   "cell_type": "code",
   "execution_count": null,
   "metadata": {},
   "outputs": [],
   "source": []
  }
 ],
 "metadata": {
  "kernelspec": {
   "display_name": "Python 3",
   "language": "python",
   "name": "python3"
  },
  "language_info": {
   "codemirror_mode": {
    "name": "ipython",
    "version": 3
   },
   "file_extension": ".py",
   "mimetype": "text/x-python",
   "name": "python",
   "nbconvert_exporter": "python",
   "pygments_lexer": "ipython3",
   "version": "3.7.3"
  }
 },
 "nbformat": 4,
 "nbformat_minor": 2
}
