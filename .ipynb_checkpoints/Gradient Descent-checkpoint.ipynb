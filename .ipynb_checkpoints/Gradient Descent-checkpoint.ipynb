{
 "cells": [
  {
   "cell_type": "code",
   "execution_count": 1,
   "metadata": {},
   "outputs": [],
   "source": [
    "import numpy as np"
   ]
  },
  {
   "cell_type": "markdown",
   "metadata": {},
   "source": [
    "#### Doing From Scratch using numpy linear regression "
   ]
  },
  {
   "cell_type": "code",
   "execution_count": 42,
   "metadata": {},
   "outputs": [],
   "source": [
    "\n",
    "# let f=w*x\n",
    "# so w=2*x for this example\n",
    "x = np.array([1,2,3,4],dtype = np.float32)\n",
    "y = np.array([2,4,6,8],dtype = np.float32)"
   ]
  },
  {
   "cell_type": "code",
   "execution_count": 43,
   "metadata": {},
   "outputs": [],
   "source": [
    "#w=0 is set then grad descent is done\n",
    "w=100"
   ]
  },
  {
   "cell_type": "code",
   "execution_count": 44,
   "metadata": {},
   "outputs": [],
   "source": [
    "def forward(x):\n",
    "    return w*x\n"
   ]
  },
  {
   "cell_type": "code",
   "execution_count": 45,
   "metadata": {},
   "outputs": [],
   "source": [
    "#loss = 1/n * (w*x-y)**2\n",
    "#hence dloss/dw = 2/n* x * (w*x-y)\n",
    "def loss(y,y_predicted):\n",
    "    return ((y_predicted-y)**2).mean() #mean square loss\n",
    "     "
   ]
  },
  {
   "cell_type": "code",
   "execution_count": 46,
   "metadata": {},
   "outputs": [],
   "source": [
    "def gradient(x,y,y_predicted):\n",
    "    return np.dot(2*x,y_predicted-y).mean()"
   ]
  },
  {
   "cell_type": "code",
   "execution_count": 47,
   "metadata": {},
   "outputs": [
    {
     "name": "stdout",
     "output_type": "stream",
     "text": [
      "at epoch 0 loss is 67.5\n",
      "at epoch 1 loss is 10.800001\n",
      "at epoch 2 loss is 1.7280002\n",
      "at epoch 3 loss is 0.27647975\n",
      "at epoch 4 loss is 0.0442369\n",
      "at epoch 5 loss is 0.007077897\n",
      "at epoch 6 loss is 0.0011324794\n",
      "at epoch 7 loss is 0.0001811967\n",
      "at epoch 8 loss is 2.8988658e-05\n",
      "at epoch 9 loss is 4.6370606e-06\n",
      "at epoch 10 loss is 7.428298e-07\n",
      "at epoch 11 loss is 1.1885277e-07\n",
      "at epoch 12 loss is 1.8962467e-08\n",
      "at epoch 13 loss is 3.0081537e-09\n",
      "at epoch 14 loss is 4.9283244e-10\n",
      "at epoch 15 loss is 7.317169e-11\n",
      "at epoch 16 loss is 1.5347723e-11\n",
      "at epoch 17 loss is 1.7053026e-12\n",
      "at epoch 18 loss is 5.258016e-13\n",
      "at epoch 19 loss is 0.0\n"
     ]
    }
   ],
   "source": [
    "w=5\n",
    "learning_rate=0.01\n",
    "n_iter=20\n",
    "for epoch in range(n_iter):\n",
    "    y_predicted = forward(x)\n",
    "    l = loss(y,y_predicted)\n",
    "    dw= gradient(x,y,y_predicted)\n",
    "    w-= learning_rate*dw\n",
    "    print('at epoch',epoch,'loss is',l)\n",
    "    "
   ]
  },
  {
   "cell_type": "code",
   "execution_count": 48,
   "metadata": {},
   "outputs": [
    {
     "name": "stdout",
     "output_type": "stream",
     "text": [
      "2.0000000333786017\n"
     ]
    }
   ],
   "source": [
    "print(w) #hence approximated"
   ]
  },
  {
   "cell_type": "code",
   "execution_count": 50,
   "metadata": {},
   "outputs": [],
   "source": [
    "import torch"
   ]
  },
  {
   "cell_type": "code",
   "execution_count": 70,
   "metadata": {},
   "outputs": [],
   "source": [
    "#now replacing some operations with torch\n",
    "x = torch.tensor([1,2,3,4],dtype = torch.float32)\n",
    "y = torch.tensor([20,40,60,80 ],dtype = torch.float32)\n",
    "#Hence weight is 20 for above model"
   ]
  },
  {
   "cell_type": "code",
   "execution_count": 71,
   "metadata": {},
   "outputs": [
    {
     "name": "stdout",
     "output_type": "stream",
     "text": [
      "loss is 3000.0\n",
      "loss is 590.623046875\n",
      "loss is 116.27862548828125\n",
      "loss is 22.892255783081055\n",
      "loss is 4.506898403167725\n",
      "loss is 0.8873037695884705\n",
      "loss is 0.17468804121017456\n",
      "loss is 0.034391336143016815\n",
      "loss is 0.006771010346710682\n",
      "loss is 0.0013331400696188211\n",
      "loss is 0.00026254577096551657\n",
      "loss is 5.166046321392059e-05\n",
      "loss is 1.0152689355891198e-05\n",
      "loss is 1.989064912777394e-06\n",
      "loss is 4.001385605079122e-07\n",
      "loss is 7.956259651109576e-08\n",
      "loss is 1.57160684466362e-08\n",
      "loss is 2.7284841053187847e-09\n",
      "loss is 4.3655745685100555e-10\n",
      "loss is 2.3010215954855084e-10\n"
     ]
    }
   ],
   "source": [
    "w = torch.tensor(0.0,dtype=torch.float32,requires_grad=True)\n",
    "learning_rate=0.01\n",
    "n_iter=100\n",
    "for epoch in range(n_iter):\n",
    "    y_pred = forward(x)\n",
    "    l = loss(y,y_pred)\n",
    "    l.backward()\n",
    "    with torch.no_grad():\n",
    "        w-= w.grad*learning_rate\n",
    "    w.grad.zero_()\n",
    "    if(epoch%5==0):\n",
    "        print('loss is',l.item())"
   ]
  },
  {
   "cell_type": "code",
   "execution_count": 72,
   "metadata": {},
   "outputs": [
    {
     "name": "stdout",
     "output_type": "stream",
     "text": [
      "tensor(20.0000, requires_grad=True)\n"
     ]
    }
   ],
   "source": [
    "print(w) #done right"
   ]
  },
  {
   "cell_type": "code",
   "execution_count": null,
   "metadata": {},
   "outputs": [],
   "source": []
  }
 ],
 "metadata": {
  "kernelspec": {
   "display_name": "Python 3",
   "language": "python",
   "name": "python3"
  },
  "language_info": {
   "codemirror_mode": {
    "name": "ipython",
    "version": 3
   },
   "file_extension": ".py",
   "mimetype": "text/x-python",
   "name": "python",
   "nbconvert_exporter": "python",
   "pygments_lexer": "ipython3",
   "version": "3.7.3"
  }
 },
 "nbformat": 4,
 "nbformat_minor": 2
}
